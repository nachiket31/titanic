{
 "cells": [
  {
   "cell_type": "code",
   "execution_count": 33,
   "metadata": {},
   "outputs": [],
   "source": [
    "from sklearn.model_selection import train_test_split\n",
    "from sklearn.tree import DecisionTreeClassifier\n",
    "from sklearn import preprocessing\n",
    "import pandas as pd\n",
    "import numpy as np\n",
    "import collections\n",
    "train = pd.read_csv(r'C:\\Users\\Nachiket\\Documents\\CMI\\ML\\Datasets\\titanic\\titanic_train.csv')\n",
    "test  = pd.read_csv(r'C:\\Users\\Nachiket\\Documents\\CMI\\ML\\Datasets\\titanic\\titanic_test.csv')\n",
    "train = pd.DataFrame(train)\n",
    "test = pd.DataFrame(test)\n",
    "train_data = train.drop(['Name', 'Survived'], axis=1)\n",
    "train_target = pd.DataFrame(train['Survived'])"
   ]
  },
  {
   "cell_type": "code",
   "execution_count": 2,
   "metadata": {},
   "outputs": [],
   "source": [
    "le = preprocessing.LabelEncoder()\n",
    "train_data['Sex'] = le.fit_transform(train_data.Sex)\n",
    "\n",
    "le = preprocessing.LabelEncoder()\n",
    "train_data['Ticket'] = le.fit_transform(train_data.Ticket)\n",
    "\n",
    "train_data['Embarked'] = train_data.Embarked.fillna('S')\n",
    "le = preprocessing.LabelEncoder()\n",
    "train_data['Embarked'] = le.fit_transform(train_data.Embarked)\n",
    "\n",
    "le = preprocessing.LabelEncoder()\n",
    "train_data = train_data.drop(['Cabin'], axis=1)"
   ]
  },
  {
   "cell_type": "code",
   "execution_count": 3,
   "metadata": {},
   "outputs": [],
   "source": [
    "train_data['Age'] = train_data.Age.fillna(np.mean(train_data.Age))"
   ]
  },
  {
   "cell_type": "code",
   "execution_count": 4,
   "metadata": {},
   "outputs": [
    {
     "data": {
      "text/plain": [
       "0.7668161434977578"
      ]
     },
     "execution_count": 4,
     "metadata": {},
     "output_type": "execute_result"
    }
   ],
   "source": [
    "# Dropped Name, Cabin, Survived for train_data\n",
    "\n",
    "dtree = DecisionTreeClassifier(criterion='entropy')\n",
    "x_train, x_test, y_train, y_test = train_test_split(train_data, train_target, train_size = 0.75)\n",
    "dtree.fit(x_train, y_train)\n",
    "dtree.score(x_test, y_test)"
   ]
  },
  {
   "cell_type": "code",
   "execution_count": 5,
   "metadata": {},
   "outputs": [],
   "source": [
    "test_data = test.drop(['Name'], axis=1)\n",
    "\n",
    "le = preprocessing.LabelEncoder()\n",
    "test_data['Sex'] = le.fit_transform(test_data.Sex)\n",
    "\n",
    "le = preprocessing.LabelEncoder()\n",
    "test_data['Ticket'] = le.fit_transform(test_data.Ticket)\n",
    "\n",
    "test_data['Embarked'] = test_data.Embarked.fillna('S')\n",
    "le = preprocessing.LabelEncoder()\n",
    "test_data['Embarked'] = le.fit_transform(test_data.Embarked)\n",
    "\n",
    "le = preprocessing.LabelEncoder()\n",
    "test_data = test_data.drop(['Cabin'], axis=1)"
   ]
  },
  {
   "cell_type": "code",
   "execution_count": 6,
   "metadata": {},
   "outputs": [],
   "source": [
    "test_data['Age'] = test_data.Age.fillna(np.mean(test_data.Age))\n",
    "test_data['Fare'] = test_data.Fare.fillna(np.mean(test_data.Fare))"
   ]
  },
  {
   "cell_type": "code",
   "execution_count": 7,
   "metadata": {},
   "outputs": [],
   "source": [
    "y_pred = dtree.predict(test_data)"
   ]
  },
  {
   "cell_type": "code",
   "execution_count": 23,
   "metadata": {},
   "outputs": [
    {
     "data": {
      "text/plain": [
       "\"submission = pd.DataFrame({\\n    'PassengerID' : test['PassengerId'],\\n    'Survived' : y_pred\\n})\\nsubmission.to_csv('submission_titanic.csv', index=False)\""
      ]
     },
     "execution_count": 23,
     "metadata": {},
     "output_type": "execute_result"
    }
   ],
   "source": [
    "'''submission = pd.DataFrame({\n",
    "    'PassengerID' : test['PassengerId'],\n",
    "    'Survived' : y_pred\n",
    "})\n",
    "submission.to_csv('submission_titanic.csv', index=False)'''"
   ]
  }
 ],
 "metadata": {
  "kernelspec": {
   "display_name": "Python 3",
   "language": "python",
   "name": "python3"
  },
  "language_info": {
   "codemirror_mode": {
    "name": "ipython",
    "version": 3
   },
   "file_extension": ".py",
   "mimetype": "text/x-python",
   "name": "python",
   "nbconvert_exporter": "python",
   "pygments_lexer": "ipython3",
   "version": "3.7.4"
  }
 },
 "nbformat": 4,
 "nbformat_minor": 2
}
